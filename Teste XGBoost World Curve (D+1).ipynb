{
 "cells": [
  {
   "cell_type": "code",
   "execution_count": 1,
   "metadata": {},
   "outputs": [],
   "source": [
    "import pandas as pd\n",
    "import seaborn as sns\n",
    "import matplotlib.pyplot as plt\n",
    "from xgboost import XGBRegressor, plot_importance, plot_tree\n",
    "from tqdm import tqdm_notebook\n",
    "import numpy as np\n",
    "from sklearn.metrics import mean_squared_error\n",
    "from sklearn.preprocessing import StandardScaler\n",
    "import math\n",
    "\n",
    "%matplotlib qt5"
   ]
  },
  {
   "cell_type": "code",
   "execution_count": 2,
   "metadata": {},
   "outputs": [],
   "source": [
    "def get_mov_avg_std(df, col, N):\n",
    "    \"\"\"\n",
    "    Given a dataframe, get mean and std dev at timestep t using values from t-1, t-2, ..., t-N.\n",
    "    Inputs\n",
    "        df         : dataframe. Can be of any length.\n",
    "        col        : name of the column you want to calculate mean and std dev\n",
    "        N          : get mean and std dev at timestep t using values from t-1, t-2, ..., t-N\n",
    "    Outputs\n",
    "        df_out     : same as df but with additional column containing mean and std dev\n",
    "    \"\"\"\n",
    "    mean_list = df[col].rolling(window = N, min_periods=1).mean() # len(mean_list) = len(df)\n",
    "    std_list = df[col].rolling(window = N, min_periods=1).std()   # first value will be NaN, because normalized by N-1\n",
    "    \n",
    "    # Add one timestep to the predictions\n",
    "    mean_list = np.concatenate((np.array([np.nan]), np.array(mean_list[:-1])))\n",
    "    std_list = np.concatenate((np.array([np.nan]), np.array(std_list[:-1])))\n",
    "    \n",
    "    # Append mean_list to df\n",
    "    df_out = df.copy()\n",
    "    df_out[col + '_mean'] = mean_list\n",
    "    df_out[col + '_std'] = std_list\n",
    "    \n",
    "    return df_out\n",
    "\n",
    "def scale_row(row, feat_mean, feat_std):\n",
    "    \"\"\"\n",
    "    Given a pandas series in row, scale it to have 0 mean and var 1 using feat_mean and feat_std\n",
    "    Inputs\n",
    "        row      : pandas series. Need to scale this.\n",
    "        feat_mean: mean  \n",
    "        feat_std : standard deviation\n",
    "    Outputs\n",
    "        row_scaled : pandas series with same length as row, but scaled\n",
    "    \"\"\"\n",
    "    # If feat_std = 0 (this happens if adj_close doesn't change over N days), \n",
    "    # set it to a small number to avoid division by zero\n",
    "    feat_std = 0.001 if feat_std == 0 else feat_std\n",
    "    \n",
    "    row_scaled = (row-feat_mean) / feat_std\n",
    "    \n",
    "    return row_scaled"
   ]
  },
  {
   "cell_type": "code",
   "execution_count": 3,
   "metadata": {},
   "outputs": [],
   "source": [
    "df_covid = pd.read_csv(\"./input/covid_19_clear.csv\", parse_dates=['Date'], infer_datetime_format=True)\n"
   ]
  },
  {
   "cell_type": "code",
   "execution_count": 4,
   "metadata": {},
   "outputs": [
    {
     "name": "stdout",
     "output_type": "stream",
     "text": [
      "<class 'pandas.core.frame.DataFrame'>\n",
      "RangeIndex: 11346 entries, 0 to 11345\n",
      "Data columns (total 5 columns):\n",
      " #   Column     Non-Null Count  Dtype         \n",
      "---  ------     --------------  -----         \n",
      " 0   Country    11346 non-null  object        \n",
      " 1   Date       11346 non-null  datetime64[ns]\n",
      " 2   Confirmed  11346 non-null  float64       \n",
      " 3   Deaths     11346 non-null  float64       \n",
      " 4   Recovered  11346 non-null  float64       \n",
      "dtypes: datetime64[ns](1), float64(3), object(1)\n",
      "memory usage: 443.3+ KB\n"
     ]
    }
   ],
   "source": [
    "df_covid.info()"
   ]
  },
  {
   "cell_type": "code",
   "execution_count": 5,
   "metadata": {},
   "outputs": [],
   "source": [
    "df_covid\n",
    "df_covid_world = df_covid.groupby(['Date']).sum()[['Confirmed']].reset_index()"
   ]
  },
  {
   "cell_type": "code",
   "execution_count": 6,
   "metadata": {},
   "outputs": [
    {
     "data": {
      "text/html": [
       "<div>\n",
       "<style scoped>\n",
       "    .dataframe tbody tr th:only-of-type {\n",
       "        vertical-align: middle;\n",
       "    }\n",
       "\n",
       "    .dataframe tbody tr th {\n",
       "        vertical-align: top;\n",
       "    }\n",
       "\n",
       "    .dataframe thead th {\n",
       "        text-align: right;\n",
       "    }\n",
       "</style>\n",
       "<table border=\"1\" class=\"dataframe\">\n",
       "  <thead>\n",
       "    <tr style=\"text-align: right;\">\n",
       "      <th></th>\n",
       "      <th>Date</th>\n",
       "      <th>Confirmed</th>\n",
       "    </tr>\n",
       "  </thead>\n",
       "  <tbody>\n",
       "    <tr>\n",
       "      <th>0</th>\n",
       "      <td>2020-01-22</td>\n",
       "      <td>555.0</td>\n",
       "    </tr>\n",
       "    <tr>\n",
       "      <th>1</th>\n",
       "      <td>2020-01-23</td>\n",
       "      <td>653.0</td>\n",
       "    </tr>\n",
       "    <tr>\n",
       "      <th>2</th>\n",
       "      <td>2020-01-24</td>\n",
       "      <td>941.0</td>\n",
       "    </tr>\n",
       "    <tr>\n",
       "      <th>3</th>\n",
       "      <td>2020-01-25</td>\n",
       "      <td>1434.0</td>\n",
       "    </tr>\n",
       "    <tr>\n",
       "      <th>4</th>\n",
       "      <td>2020-01-26</td>\n",
       "      <td>2118.0</td>\n",
       "    </tr>\n",
       "    <tr>\n",
       "      <th>...</th>\n",
       "      <td>...</td>\n",
       "      <td>...</td>\n",
       "    </tr>\n",
       "    <tr>\n",
       "      <th>57</th>\n",
       "      <td>2020-03-19</td>\n",
       "      <td>242708.0</td>\n",
       "    </tr>\n",
       "    <tr>\n",
       "      <th>58</th>\n",
       "      <td>2020-03-20</td>\n",
       "      <td>272166.0</td>\n",
       "    </tr>\n",
       "    <tr>\n",
       "      <th>59</th>\n",
       "      <td>2020-03-21</td>\n",
       "      <td>304524.0</td>\n",
       "    </tr>\n",
       "    <tr>\n",
       "      <th>60</th>\n",
       "      <td>2020-03-22</td>\n",
       "      <td>335955.0</td>\n",
       "    </tr>\n",
       "    <tr>\n",
       "      <th>61</th>\n",
       "      <td>2020-03-23</td>\n",
       "      <td>336004.0</td>\n",
       "    </tr>\n",
       "  </tbody>\n",
       "</table>\n",
       "<p>62 rows × 2 columns</p>\n",
       "</div>"
      ],
      "text/plain": [
       "         Date  Confirmed\n",
       "0  2020-01-22      555.0\n",
       "1  2020-01-23      653.0\n",
       "2  2020-01-24      941.0\n",
       "3  2020-01-25     1434.0\n",
       "4  2020-01-26     2118.0\n",
       "..        ...        ...\n",
       "57 2020-03-19   242708.0\n",
       "58 2020-03-20   272166.0\n",
       "59 2020-03-21   304524.0\n",
       "60 2020-03-22   335955.0\n",
       "61 2020-03-23   336004.0\n",
       "\n",
       "[62 rows x 2 columns]"
      ]
     },
     "execution_count": 6,
     "metadata": {},
     "output_type": "execute_result"
    }
   ],
   "source": [
    "df_covid_world"
   ]
  },
  {
   "cell_type": "code",
   "execution_count": 7,
   "metadata": {},
   "outputs": [
    {
     "data": {
      "text/plain": [
       "Text(0, 0.5, 'Confirmed')"
      ]
     },
     "execution_count": 7,
     "metadata": {},
     "output_type": "execute_result"
    }
   ],
   "source": [
    "ax = df_covid_world.plot(x='Date', y='Confirmed', style='b-', grid=True)\n",
    "ax.set_xlabel(\"date\")\n",
    "ax.set_ylabel(\"Confirmed\")"
   ]
  },
  {
   "cell_type": "markdown",
   "metadata": {},
   "source": [
    "# Feature Engeneering "
   ]
  },
  {
   "cell_type": "code",
   "execution_count": 8,
   "metadata": {},
   "outputs": [
    {
     "data": {
      "text/plain": [
       "['Confirmed']"
      ]
     },
     "execution_count": 8,
     "metadata": {},
     "output_type": "execute_result"
    }
   ],
   "source": [
    "# Add a column 'order_day' to indicate the order of the rows by date\n",
    "df_covid_world['order_day'] = [x for x in list(range(len(df_covid_world)))]\n",
    "\n",
    "# merging_keys\n",
    "merging_keys = ['order_day']\n",
    "\n",
    "# List of columns that we will use to create lags\n",
    "lag_cols = ['Confirmed']\n",
    "lag_cols"
   ]
  },
  {
   "cell_type": "code",
   "execution_count": 9,
   "metadata": {},
   "outputs": [
    {
     "name": "stderr",
     "output_type": "stream",
     "text": [
      "/opt/anaconda3/envs/ml-env/lib/python3.7/site-packages/ipykernel_launcher.py:4: TqdmDeprecationWarning: This function will be removed in tqdm==5.0.0\n",
      "Please use `tqdm.notebook.tqdm` instead of `tqdm.tqdm_notebook`\n",
      "  after removing the cwd from sys.path.\n"
     ]
    },
    {
     "data": {
      "application/vnd.jupyter.widget-view+json": {
       "model_id": "e10c4e041bed4789a6c9b17e2a02762b",
       "version_major": 2,
       "version_minor": 0
      },
      "text/plain": [
       "HBox(children=(FloatProgress(value=0.0, max=2.0), HTML(value='')))"
      ]
     },
     "metadata": {},
     "output_type": "display_data"
    },
    {
     "name": "stdout",
     "output_type": "stream",
     "text": [
      "\n"
     ]
    },
    {
     "data": {
      "text/html": [
       "<div>\n",
       "<style scoped>\n",
       "    .dataframe tbody tr th:only-of-type {\n",
       "        vertical-align: middle;\n",
       "    }\n",
       "\n",
       "    .dataframe tbody tr th {\n",
       "        vertical-align: top;\n",
       "    }\n",
       "\n",
       "    .dataframe thead th {\n",
       "        text-align: right;\n",
       "    }\n",
       "</style>\n",
       "<table border=\"1\" class=\"dataframe\">\n",
       "  <thead>\n",
       "    <tr style=\"text-align: right;\">\n",
       "      <th></th>\n",
       "      <th>Date</th>\n",
       "      <th>Confirmed</th>\n",
       "      <th>order_day</th>\n",
       "      <th>Confirmed_lag_1</th>\n",
       "      <th>Confirmed_lag_2</th>\n",
       "    </tr>\n",
       "  </thead>\n",
       "  <tbody>\n",
       "    <tr>\n",
       "      <th>2</th>\n",
       "      <td>2020-01-24</td>\n",
       "      <td>941.0</td>\n",
       "      <td>2</td>\n",
       "      <td>653.0</td>\n",
       "      <td>555.0</td>\n",
       "    </tr>\n",
       "    <tr>\n",
       "      <th>3</th>\n",
       "      <td>2020-01-25</td>\n",
       "      <td>1434.0</td>\n",
       "      <td>3</td>\n",
       "      <td>941.0</td>\n",
       "      <td>653.0</td>\n",
       "    </tr>\n",
       "    <tr>\n",
       "      <th>4</th>\n",
       "      <td>2020-01-26</td>\n",
       "      <td>2118.0</td>\n",
       "      <td>4</td>\n",
       "      <td>1434.0</td>\n",
       "      <td>941.0</td>\n",
       "    </tr>\n",
       "    <tr>\n",
       "      <th>5</th>\n",
       "      <td>2020-01-27</td>\n",
       "      <td>2927.0</td>\n",
       "      <td>5</td>\n",
       "      <td>2118.0</td>\n",
       "      <td>1434.0</td>\n",
       "    </tr>\n",
       "    <tr>\n",
       "      <th>6</th>\n",
       "      <td>2020-01-28</td>\n",
       "      <td>5578.0</td>\n",
       "      <td>6</td>\n",
       "      <td>2927.0</td>\n",
       "      <td>2118.0</td>\n",
       "    </tr>\n",
       "  </tbody>\n",
       "</table>\n",
       "</div>"
      ],
      "text/plain": [
       "        Date  Confirmed  order_day  Confirmed_lag_1  Confirmed_lag_2\n",
       "2 2020-01-24      941.0          2            653.0            555.0\n",
       "3 2020-01-25     1434.0          3            941.0            653.0\n",
       "4 2020-01-26     2118.0          4           1434.0            941.0\n",
       "5 2020-01-27     2927.0          5           2118.0           1434.0\n",
       "6 2020-01-28     5578.0          6           2927.0           2118.0"
      ]
     },
     "execution_count": 9,
     "metadata": {},
     "output_type": "execute_result"
    }
   ],
   "source": [
    "N = 2\n",
    "shift_range = [x+1 for x in range(N)]\n",
    "\n",
    "for shift in tqdm_notebook(shift_range):\n",
    "    train_shift = df_covid_world[merging_keys + lag_cols].copy()\n",
    "    \n",
    "    # E.g. order_day of 0 becomes 1, for shift = 1.\n",
    "    # So when this is merged with order_day of 1 in df_covid_world, this will represent lag of 1.\n",
    "    train_shift['order_day'] = train_shift['order_day'] + shift\n",
    "    \n",
    "    foo = lambda x: '{}_lag_{}'.format(x, shift) if x in lag_cols else x\n",
    "    train_shift = train_shift.rename(columns=foo)\n",
    "\n",
    "    df_covid_world = pd.merge(df_covid_world, train_shift, on=merging_keys, how='left') #.fillna(0)\n",
    "    \n",
    "del train_shift\n",
    "\n",
    "# Remove the first N rows which contain NaNs\n",
    "df_covid_world = df_covid_world[N:]\n",
    "    \n",
    "df_covid_world.head()"
   ]
  },
  {
   "cell_type": "code",
   "execution_count": 10,
   "metadata": {},
   "outputs": [
    {
     "name": "stdout",
     "output_type": "stream",
     "text": [
      "<class 'pandas.core.frame.DataFrame'>\n",
      "Int64Index: 60 entries, 2 to 61\n",
      "Data columns (total 5 columns):\n",
      " #   Column           Non-Null Count  Dtype         \n",
      "---  ------           --------------  -----         \n",
      " 0   Date             60 non-null     datetime64[ns]\n",
      " 1   Confirmed        60 non-null     float64       \n",
      " 2   order_day        60 non-null     int64         \n",
      " 3   Confirmed_lag_1  60 non-null     float64       \n",
      " 4   Confirmed_lag_2  60 non-null     float64       \n",
      "dtypes: datetime64[ns](1), float64(3), int64(1)\n",
      "memory usage: 2.8 KB\n"
     ]
    }
   ],
   "source": [
    "df_covid_world.info()"
   ]
  },
  {
   "cell_type": "markdown",
   "metadata": {},
   "source": [
    "# Get mean and std dev at timestamp t using values from t-1, ..., t-N"
   ]
  },
  {
   "cell_type": "code",
   "execution_count": 11,
   "metadata": {},
   "outputs": [
    {
     "data": {
      "text/html": [
       "<div>\n",
       "<style scoped>\n",
       "    .dataframe tbody tr th:only-of-type {\n",
       "        vertical-align: middle;\n",
       "    }\n",
       "\n",
       "    .dataframe tbody tr th {\n",
       "        vertical-align: top;\n",
       "    }\n",
       "\n",
       "    .dataframe thead th {\n",
       "        text-align: right;\n",
       "    }\n",
       "</style>\n",
       "<table border=\"1\" class=\"dataframe\">\n",
       "  <thead>\n",
       "    <tr style=\"text-align: right;\">\n",
       "      <th></th>\n",
       "      <th>Date</th>\n",
       "      <th>Confirmed</th>\n",
       "      <th>order_day</th>\n",
       "      <th>Confirmed_lag_1</th>\n",
       "      <th>Confirmed_lag_2</th>\n",
       "      <th>Confirmed_mean</th>\n",
       "      <th>Confirmed_std</th>\n",
       "    </tr>\n",
       "  </thead>\n",
       "  <tbody>\n",
       "    <tr>\n",
       "      <th>2</th>\n",
       "      <td>2020-01-24</td>\n",
       "      <td>941.0</td>\n",
       "      <td>2</td>\n",
       "      <td>653.0</td>\n",
       "      <td>555.0</td>\n",
       "      <td>NaN</td>\n",
       "      <td>NaN</td>\n",
       "    </tr>\n",
       "    <tr>\n",
       "      <th>3</th>\n",
       "      <td>2020-01-25</td>\n",
       "      <td>1434.0</td>\n",
       "      <td>3</td>\n",
       "      <td>941.0</td>\n",
       "      <td>653.0</td>\n",
       "      <td>941.0</td>\n",
       "      <td>NaN</td>\n",
       "    </tr>\n",
       "    <tr>\n",
       "      <th>4</th>\n",
       "      <td>2020-01-26</td>\n",
       "      <td>2118.0</td>\n",
       "      <td>4</td>\n",
       "      <td>1434.0</td>\n",
       "      <td>941.0</td>\n",
       "      <td>1187.5</td>\n",
       "      <td>348.603643</td>\n",
       "    </tr>\n",
       "    <tr>\n",
       "      <th>5</th>\n",
       "      <td>2020-01-27</td>\n",
       "      <td>2927.0</td>\n",
       "      <td>5</td>\n",
       "      <td>2118.0</td>\n",
       "      <td>1434.0</td>\n",
       "      <td>1776.0</td>\n",
       "      <td>483.661038</td>\n",
       "    </tr>\n",
       "    <tr>\n",
       "      <th>6</th>\n",
       "      <td>2020-01-28</td>\n",
       "      <td>5578.0</td>\n",
       "      <td>6</td>\n",
       "      <td>2927.0</td>\n",
       "      <td>2118.0</td>\n",
       "      <td>2522.5</td>\n",
       "      <td>572.049386</td>\n",
       "    </tr>\n",
       "  </tbody>\n",
       "</table>\n",
       "</div>"
      ],
      "text/plain": [
       "        Date  Confirmed  order_day  Confirmed_lag_1  Confirmed_lag_2  \\\n",
       "2 2020-01-24      941.0          2            653.0            555.0   \n",
       "3 2020-01-25     1434.0          3            941.0            653.0   \n",
       "4 2020-01-26     2118.0          4           1434.0            941.0   \n",
       "5 2020-01-27     2927.0          5           2118.0           1434.0   \n",
       "6 2020-01-28     5578.0          6           2927.0           2118.0   \n",
       "\n",
       "   Confirmed_mean  Confirmed_std  \n",
       "2             NaN            NaN  \n",
       "3           941.0            NaN  \n",
       "4          1187.5     348.603643  \n",
       "5          1776.0     483.661038  \n",
       "6          2522.5     572.049386  "
      ]
     },
     "execution_count": 11,
     "metadata": {},
     "output_type": "execute_result"
    }
   ],
   "source": [
    "cols_list = [\n",
    "\"Confirmed\"\n",
    "]\n",
    "\n",
    "for col in cols_list:\n",
    "    df_covid_world = get_mov_avg_std(df_covid_world, col, N)\n",
    "df_covid_world.head()"
   ]
  },
  {
   "cell_type": "markdown",
   "metadata": {},
   "source": [
    "# Split into train, validation and test set"
   ]
  },
  {
   "cell_type": "code",
   "execution_count": 12,
   "metadata": {},
   "outputs": [
    {
     "name": "stdout",
     "output_type": "stream",
     "text": [
      "num_train =  36\n",
      "num_valid =  12\n",
      "num_test =  12\n",
      "train.shape = (36, 7)\n",
      "valid.shape = (12, 7)\n",
      "train_valid.shape = (48, 7)\n",
      "test.shape = (12, 7)\n"
     ]
    }
   ],
   "source": [
    "valid_size = 0.2\n",
    "test_size = 0.2\n",
    "\n",
    "# Get sizes of each of the datasets\n",
    "num_valid = int(valid_size*len(df_covid_world))\n",
    "num_test = int(test_size*len(df_covid_world))\n",
    "num_train = len(df_covid_world)-num_valid-num_test\n",
    "print(\"num_train = \", num_train)\n",
    "print(\"num_valid = \", num_valid)\n",
    "print(\"num_test = \", num_test)\n",
    "\n",
    "# Split into train, valid, and test\n",
    "train = df_covid_world[:num_train]\n",
    "valid = df_covid_world[num_train:num_train+num_valid]\n",
    "train_valid = df_covid_world[:num_train+num_valid]\n",
    "test = df_covid_world[num_train+num_valid:]\n",
    "print(\"train.shape = \" + str(train.shape))\n",
    "print(\"valid.shape = \" + str(valid.shape))\n",
    "print(\"train_valid.shape = \" + str(train_valid.shape))\n",
    "print(\"test.shape = \" + str(test.shape))"
   ]
  },
  {
   "cell_type": "markdown",
   "metadata": {},
   "source": [
    "# Scale the train, validation and test set¶"
   ]
  },
  {
   "cell_type": "code",
   "execution_count": 13,
   "metadata": {},
   "outputs": [
    {
     "name": "stdout",
     "output_type": "stream",
     "text": [
      "scaler.mean_ = [45088.19444444 42769.66666667 40486.36111111]\n",
      "scaler.var_ = [8.99419013e+08 9.06571349e+08 9.06450397e+08]\n",
      "train_scaled.shape = (36, 3)\n",
      "train_scaled.shape = (36, 4)\n"
     ]
    },
    {
     "data": {
      "text/html": [
       "<div>\n",
       "<style scoped>\n",
       "    .dataframe tbody tr th:only-of-type {\n",
       "        vertical-align: middle;\n",
       "    }\n",
       "\n",
       "    .dataframe tbody tr th {\n",
       "        vertical-align: top;\n",
       "    }\n",
       "\n",
       "    .dataframe thead th {\n",
       "        text-align: right;\n",
       "    }\n",
       "</style>\n",
       "<table border=\"1\" class=\"dataframe\">\n",
       "  <thead>\n",
       "    <tr style=\"text-align: right;\">\n",
       "      <th></th>\n",
       "      <th>Confirmed</th>\n",
       "      <th>Confirmed_lag_1</th>\n",
       "      <th>Confirmed_lag_2</th>\n",
       "      <th>Date</th>\n",
       "    </tr>\n",
       "  </thead>\n",
       "  <tbody>\n",
       "    <tr>\n",
       "      <th>0</th>\n",
       "      <td>-1.472048</td>\n",
       "      <td>-1.398792</td>\n",
       "      <td>-1.326301</td>\n",
       "      <td>2020-01-24</td>\n",
       "    </tr>\n",
       "    <tr>\n",
       "      <th>1</th>\n",
       "      <td>-1.455610</td>\n",
       "      <td>-1.389226</td>\n",
       "      <td>-1.323046</td>\n",
       "      <td>2020-01-25</td>\n",
       "    </tr>\n",
       "    <tr>\n",
       "      <th>2</th>\n",
       "      <td>-1.432802</td>\n",
       "      <td>-1.372853</td>\n",
       "      <td>-1.313480</td>\n",
       "      <td>2020-01-26</td>\n",
       "    </tr>\n",
       "    <tr>\n",
       "      <th>3</th>\n",
       "      <td>-1.405827</td>\n",
       "      <td>-1.350136</td>\n",
       "      <td>-1.297105</td>\n",
       "      <td>2020-01-27</td>\n",
       "    </tr>\n",
       "    <tr>\n",
       "      <th>4</th>\n",
       "      <td>-1.317432</td>\n",
       "      <td>-1.323267</td>\n",
       "      <td>-1.274387</td>\n",
       "      <td>2020-01-28</td>\n",
       "    </tr>\n",
       "  </tbody>\n",
       "</table>\n",
       "</div>"
      ],
      "text/plain": [
       "   Confirmed  Confirmed_lag_1  Confirmed_lag_2       Date\n",
       "0  -1.472048        -1.398792        -1.326301 2020-01-24\n",
       "1  -1.455610        -1.389226        -1.323046 2020-01-25\n",
       "2  -1.432802        -1.372853        -1.313480 2020-01-26\n",
       "3  -1.405827        -1.350136        -1.297105 2020-01-27\n",
       "4  -1.317432        -1.323267        -1.274387 2020-01-28"
      ]
     },
     "execution_count": 13,
     "metadata": {},
     "output_type": "execute_result"
    }
   ],
   "source": [
    "cols_to_scale = [\n",
    "\"Confirmed\"\n",
    "]\n",
    "\n",
    "for i in range(1,N+1):\n",
    "    cols_to_scale.append(\"Confirmed_lag_\"+str(i))\n",
    "\n",
    "# Do scaling for train set\n",
    "# Here we only scale the train dataset, and not the entire dataset to prevent information leak\n",
    "scaler = StandardScaler()\n",
    "train_scaled = scaler.fit_transform(train[cols_to_scale])\n",
    "print(\"scaler.mean_ = \" + str(scaler.mean_))\n",
    "print(\"scaler.var_ = \" + str(scaler.var_))\n",
    "print(\"train_scaled.shape = \" + str(train_scaled.shape))\n",
    "\n",
    "# Convert the numpy array back into pandas dataframe\n",
    "train_scaled = pd.DataFrame(train_scaled, columns=cols_to_scale)\n",
    "train_scaled[['Date']] = train.reset_index()[['Date']]\n",
    "print(\"train_scaled.shape = \" + str(train_scaled.shape))\n",
    "train_scaled.head()"
   ]
  },
  {
   "cell_type": "code",
   "execution_count": 14,
   "metadata": {},
   "outputs": [
    {
     "name": "stdout",
     "output_type": "stream",
     "text": [
      "scaler_train_valid.mean_ = [59356.6875     56748.10416667 54289.        ]\n",
      "scaler_train_valid.var_ = [1.32241691e+09 1.29525319e+09 1.27531011e+09]\n",
      "train_valid_scaled.shape = (48, 3)\n",
      "train_valid_scaled.shape = (48, 4)\n"
     ]
    },
    {
     "data": {
      "text/html": [
       "<div>\n",
       "<style scoped>\n",
       "    .dataframe tbody tr th:only-of-type {\n",
       "        vertical-align: middle;\n",
       "    }\n",
       "\n",
       "    .dataframe tbody tr th {\n",
       "        vertical-align: top;\n",
       "    }\n",
       "\n",
       "    .dataframe thead th {\n",
       "        text-align: right;\n",
       "    }\n",
       "</style>\n",
       "<table border=\"1\" class=\"dataframe\">\n",
       "  <thead>\n",
       "    <tr style=\"text-align: right;\">\n",
       "      <th></th>\n",
       "      <th>Confirmed</th>\n",
       "      <th>Confirmed_lag_1</th>\n",
       "      <th>Confirmed_lag_2</th>\n",
       "      <th>Date</th>\n",
       "    </tr>\n",
       "  </thead>\n",
       "  <tbody>\n",
       "    <tr>\n",
       "      <th>0</th>\n",
       "      <td>-1.606369</td>\n",
       "      <td>-1.558646</td>\n",
       "      <td>-1.504670</td>\n",
       "      <td>2020-01-24</td>\n",
       "    </tr>\n",
       "    <tr>\n",
       "      <th>1</th>\n",
       "      <td>-1.592812</td>\n",
       "      <td>-1.550644</td>\n",
       "      <td>-1.501926</td>\n",
       "      <td>2020-01-25</td>\n",
       "    </tr>\n",
       "    <tr>\n",
       "      <th>2</th>\n",
       "      <td>-1.574003</td>\n",
       "      <td>-1.536946</td>\n",
       "      <td>-1.493861</td>\n",
       "      <td>2020-01-26</td>\n",
       "    </tr>\n",
       "    <tr>\n",
       "      <th>3</th>\n",
       "      <td>-1.551756</td>\n",
       "      <td>-1.517940</td>\n",
       "      <td>-1.480056</td>\n",
       "      <td>2020-01-27</td>\n",
       "    </tr>\n",
       "    <tr>\n",
       "      <th>4</th>\n",
       "      <td>-1.478856</td>\n",
       "      <td>-1.495462</td>\n",
       "      <td>-1.460903</td>\n",
       "      <td>2020-01-28</td>\n",
       "    </tr>\n",
       "  </tbody>\n",
       "</table>\n",
       "</div>"
      ],
      "text/plain": [
       "   Confirmed  Confirmed_lag_1  Confirmed_lag_2       Date\n",
       "0  -1.606369        -1.558646        -1.504670 2020-01-24\n",
       "1  -1.592812        -1.550644        -1.501926 2020-01-25\n",
       "2  -1.574003        -1.536946        -1.493861 2020-01-26\n",
       "3  -1.551756        -1.517940        -1.480056 2020-01-27\n",
       "4  -1.478856        -1.495462        -1.460903 2020-01-28"
      ]
     },
     "execution_count": 14,
     "metadata": {},
     "output_type": "execute_result"
    }
   ],
   "source": [
    "# Do scaling for train+valid set\n",
    "scaler_train_valid = StandardScaler()\n",
    "train_valid_scaled = scaler_train_valid.fit_transform(train_valid[cols_to_scale])\n",
    "print(\"scaler_train_valid.mean_ = \" + str(scaler_train_valid.mean_))\n",
    "print(\"scaler_train_valid.var_ = \" + str(scaler_train_valid.var_))\n",
    "print(\"train_valid_scaled.shape = \" + str(train_valid_scaled.shape))\n",
    "\n",
    "# Convert the numpy array back into pandas dataframe\n",
    "train_valid_scaled = pd.DataFrame(train_valid_scaled, columns=cols_to_scale)\n",
    "train_valid_scaled[['Date']] = train_valid.reset_index()[['Date']]\n",
    "print(\"train_valid_scaled.shape = \" + str(train_valid_scaled.shape))\n",
    "train_valid_scaled.head()"
   ]
  },
  {
   "cell_type": "code",
   "execution_count": 15,
   "metadata": {},
   "outputs": [
    {
     "name": "stderr",
     "output_type": "stream",
     "text": [
      "/opt/anaconda3/envs/ml-env/lib/python3.7/site-packages/ipykernel_launcher.py:2: TqdmDeprecationWarning: This function will be removed in tqdm==5.0.0\n",
      "Please use `tqdm.notebook.tqdm` instead of `tqdm.tqdm_notebook`\n",
      "  \n"
     ]
    },
    {
     "data": {
      "application/vnd.jupyter.widget-view+json": {
       "model_id": "180f2a5b987445b3ab9548f25bf3f90b",
       "version_major": 2,
       "version_minor": 0
      },
      "text/plain": [
       "HBox(children=(FloatProgress(value=0.0, max=1.0), HTML(value='')))"
      ]
     },
     "metadata": {},
     "output_type": "display_data"
    },
    {
     "name": "stdout",
     "output_type": "stream",
     "text": [
      "\n"
     ]
    },
    {
     "data": {
      "text/html": [
       "<div>\n",
       "<style scoped>\n",
       "    .dataframe tbody tr th:only-of-type {\n",
       "        vertical-align: middle;\n",
       "    }\n",
       "\n",
       "    .dataframe tbody tr th {\n",
       "        vertical-align: top;\n",
       "    }\n",
       "\n",
       "    .dataframe thead th {\n",
       "        text-align: right;\n",
       "    }\n",
       "</style>\n",
       "<table border=\"1\" class=\"dataframe\">\n",
       "  <thead>\n",
       "    <tr style=\"text-align: right;\">\n",
       "      <th></th>\n",
       "      <th>Date</th>\n",
       "      <th>Confirmed_lag_1</th>\n",
       "      <th>Confirmed_lag_2</th>\n",
       "    </tr>\n",
       "  </thead>\n",
       "  <tbody>\n",
       "    <tr>\n",
       "      <th>38</th>\n",
       "      <td>2020-02-29</td>\n",
       "      <td>0.707107</td>\n",
       "      <td>-0.707107</td>\n",
       "    </tr>\n",
       "    <tr>\n",
       "      <th>39</th>\n",
       "      <td>2020-03-01</td>\n",
       "      <td>0.707107</td>\n",
       "      <td>-0.707107</td>\n",
       "    </tr>\n",
       "    <tr>\n",
       "      <th>40</th>\n",
       "      <td>2020-03-02</td>\n",
       "      <td>0.707107</td>\n",
       "      <td>-0.707107</td>\n",
       "    </tr>\n",
       "    <tr>\n",
       "      <th>41</th>\n",
       "      <td>2020-03-03</td>\n",
       "      <td>0.707107</td>\n",
       "      <td>-0.707107</td>\n",
       "    </tr>\n",
       "    <tr>\n",
       "      <th>42</th>\n",
       "      <td>2020-03-04</td>\n",
       "      <td>0.707107</td>\n",
       "      <td>-0.707107</td>\n",
       "    </tr>\n",
       "  </tbody>\n",
       "</table>\n",
       "</div>"
      ],
      "text/plain": [
       "         Date  Confirmed_lag_1  Confirmed_lag_2\n",
       "38 2020-02-29         0.707107        -0.707107\n",
       "39 2020-03-01         0.707107        -0.707107\n",
       "40 2020-03-02         0.707107        -0.707107\n",
       "41 2020-03-03         0.707107        -0.707107\n",
       "42 2020-03-04         0.707107        -0.707107"
      ]
     },
     "execution_count": 15,
     "metadata": {},
     "output_type": "execute_result"
    }
   ],
   "source": [
    "valid_scaled = valid[['Date']]\n",
    "for col in tqdm_notebook(cols_list):\n",
    "    feat_list = [col + '_lag_' + str(shift) for shift in range(1, N+1)]\n",
    "    temp = valid.apply(lambda row: scale_row(row[feat_list], row[col+'_mean'], row[col+'_std']), axis=1)\n",
    "    valid_scaled = pd.concat([valid_scaled, temp], axis=1)\n",
    "    \n",
    "# Now the entire valid set is scaled\n",
    "valid_scaled.head()"
   ]
  },
  {
   "cell_type": "code",
   "execution_count": 16,
   "metadata": {},
   "outputs": [
    {
     "name": "stderr",
     "output_type": "stream",
     "text": [
      "/opt/anaconda3/envs/ml-env/lib/python3.7/site-packages/ipykernel_launcher.py:3: TqdmDeprecationWarning: This function will be removed in tqdm==5.0.0\n",
      "Please use `tqdm.notebook.tqdm` instead of `tqdm.tqdm_notebook`\n",
      "  This is separate from the ipykernel package so we can avoid doing imports until\n"
     ]
    },
    {
     "data": {
      "application/vnd.jupyter.widget-view+json": {
       "model_id": "ac1e0e55c6a04a2f82f416121f8efd98",
       "version_major": 2,
       "version_minor": 0
      },
      "text/plain": [
       "HBox(children=(FloatProgress(value=0.0, max=1.0), HTML(value='')))"
      ]
     },
     "metadata": {},
     "output_type": "display_data"
    },
    {
     "name": "stdout",
     "output_type": "stream",
     "text": [
      "\n"
     ]
    },
    {
     "data": {
      "text/html": [
       "<div>\n",
       "<style scoped>\n",
       "    .dataframe tbody tr th:only-of-type {\n",
       "        vertical-align: middle;\n",
       "    }\n",
       "\n",
       "    .dataframe tbody tr th {\n",
       "        vertical-align: top;\n",
       "    }\n",
       "\n",
       "    .dataframe thead th {\n",
       "        text-align: right;\n",
       "    }\n",
       "</style>\n",
       "<table border=\"1\" class=\"dataframe\">\n",
       "  <thead>\n",
       "    <tr style=\"text-align: right;\">\n",
       "      <th></th>\n",
       "      <th>Date</th>\n",
       "      <th>Confirmed_lag_1</th>\n",
       "      <th>Confirmed_lag_2</th>\n",
       "    </tr>\n",
       "  </thead>\n",
       "  <tbody>\n",
       "    <tr>\n",
       "      <th>50</th>\n",
       "      <td>2020-03-12</td>\n",
       "      <td>0.707107</td>\n",
       "      <td>-0.707107</td>\n",
       "    </tr>\n",
       "    <tr>\n",
       "      <th>51</th>\n",
       "      <td>2020-03-13</td>\n",
       "      <td>0.707107</td>\n",
       "      <td>-0.707107</td>\n",
       "    </tr>\n",
       "    <tr>\n",
       "      <th>52</th>\n",
       "      <td>2020-03-14</td>\n",
       "      <td>0.707107</td>\n",
       "      <td>-0.707107</td>\n",
       "    </tr>\n",
       "    <tr>\n",
       "      <th>53</th>\n",
       "      <td>2020-03-15</td>\n",
       "      <td>0.707107</td>\n",
       "      <td>-0.707107</td>\n",
       "    </tr>\n",
       "    <tr>\n",
       "      <th>54</th>\n",
       "      <td>2020-03-16</td>\n",
       "      <td>0.707107</td>\n",
       "      <td>-0.707107</td>\n",
       "    </tr>\n",
       "  </tbody>\n",
       "</table>\n",
       "</div>"
      ],
      "text/plain": [
       "         Date  Confirmed_lag_1  Confirmed_lag_2\n",
       "50 2020-03-12         0.707107        -0.707107\n",
       "51 2020-03-13         0.707107        -0.707107\n",
       "52 2020-03-14         0.707107        -0.707107\n",
       "53 2020-03-15         0.707107        -0.707107\n",
       "54 2020-03-16         0.707107        -0.707107"
      ]
     },
     "execution_count": 16,
     "metadata": {},
     "output_type": "execute_result"
    }
   ],
   "source": [
    "# Do scaling for test set\n",
    "test_scaled = test[['Date']]\n",
    "for col in tqdm_notebook(cols_list):\n",
    "    feat_list = [col + '_lag_' + str(shift) for shift in range(1, N+1)]\n",
    "    temp = test.apply(lambda row: scale_row(row[feat_list], row[col+'_mean'], row[col+'_std']), axis=1)\n",
    "    test_scaled = pd.concat([test_scaled, temp], axis=1)\n",
    "    \n",
    "# Now the entire test set is scaled\n",
    "test_scaled.head()"
   ]
  },
  {
   "cell_type": "markdown",
   "metadata": {},
   "source": [
    "# Split into X and y"
   ]
  },
  {
   "cell_type": "code",
   "execution_count": 17,
   "metadata": {},
   "outputs": [
    {
     "name": "stdout",
     "output_type": "stream",
     "text": [
      "X_train.shape = (36, 2)\n",
      "y_train.shape = (36,)\n",
      "X_valid.shape = (12, 2)\n",
      "y_valid.shape = (12,)\n",
      "X_train_valid.shape = (48, 2)\n",
      "y_train_valid.shape = (48,)\n",
      "X_sample.shape = (12, 2)\n",
      "y_sample.shape = (12,)\n"
     ]
    }
   ],
   "source": [
    "features = []\n",
    "for i in range(1,N+1):\n",
    "    features.append(\"Confirmed_lag_\"+str(i))\n",
    "\n",
    "\n",
    "target = \"Confirmed\"\n",
    "\n",
    "\n",
    "# Split into X and y\n",
    "X_train = train[features]\n",
    "y_train = train[target]\n",
    "X_valid = valid[features]\n",
    "y_valid = valid[target]\n",
    "X_train_valid = train_valid[features]\n",
    "y_train_valid = train_valid[target]\n",
    "X_sample = test[features]\n",
    "y_sample = test[target]\n",
    "print(\"X_train.shape = \" + str(X_train.shape))\n",
    "print(\"y_train.shape = \" + str(y_train.shape))\n",
    "print(\"X_valid.shape = \" + str(X_valid.shape))\n",
    "print(\"y_valid.shape = \" + str(y_valid.shape))\n",
    "print(\"X_train_valid.shape = \" + str(X_train_valid.shape))\n",
    "print(\"y_train_valid.shape = \" + str(y_train_valid.shape))\n",
    "print(\"X_sample.shape = \" + str(X_sample.shape))\n",
    "print(\"y_sample.shape = \" + str(y_sample.shape))"
   ]
  },
  {
   "cell_type": "code",
   "execution_count": 18,
   "metadata": {},
   "outputs": [
    {
     "name": "stdout",
     "output_type": "stream",
     "text": [
      "X_train_scaled.shape = (36, 2)\n",
      "y_train_scaled.shape = (36,)\n",
      "X_valid_scaled.shape = (12, 2)\n",
      "X_train_valid_scaled.shape = (48, 2)\n",
      "y_train_valid_scaled.shape = (48,)\n",
      "X_sample_scaled.shape = (12, 2)\n"
     ]
    }
   ],
   "source": [
    "# Split into X and y\n",
    "X_train_scaled = train_scaled[features]\n",
    "y_train_scaled = train_scaled[target]\n",
    "X_valid_scaled = valid_scaled[features]\n",
    "X_train_valid_scaled = train_valid_scaled[features]\n",
    "y_train_valid_scaled = train_valid_scaled[target]\n",
    "X_sample_scaled = test_scaled[features]\n",
    "print(\"X_train_scaled.shape = \" + str(X_train_scaled.shape))\n",
    "print(\"y_train_scaled.shape = \" + str(y_train_scaled.shape))\n",
    "print(\"X_valid_scaled.shape = \" + str(X_valid_scaled.shape))\n",
    "print(\"X_train_valid_scaled.shape = \" + str(X_train_valid_scaled.shape))\n",
    "print(\"y_train_valid_scaled.shape = \" + str(y_train_valid_scaled.shape))\n",
    "print(\"X_sample_scaled.shape = \" + str(X_sample_scaled.shape))"
   ]
  },
  {
   "cell_type": "markdown",
   "metadata": {},
   "source": [
    "# EDA"
   ]
  },
  {
   "cell_type": "code",
   "execution_count": 19,
   "metadata": {},
   "outputs": [
    {
     "data": {
      "text/plain": [
       "Text(0.5, 1.0, 'Without scaling')"
      ]
     },
     "execution_count": 19,
     "metadata": {},
     "output_type": "execute_result"
    }
   ],
   "source": [
    "ax = train.plot(x='Date', y='Confirmed', style='b-', grid=True)\n",
    "ax = valid.plot(x='Date', y='Confirmed', style='y-', grid=True, ax=ax)\n",
    "ax = test.plot(x='Date', y='Confirmed', style='g-', grid=True, ax=ax)\n",
    "ax.legend(['train', 'validation', 'test'])\n",
    "ax.set_xlabel(\"date\")\n",
    "ax.set_ylabel(\"Confirmed\")\n",
    "ax.set_title(\"Without scaling\")"
   ]
  },
  {
   "cell_type": "code",
   "execution_count": 20,
   "metadata": {},
   "outputs": [
    {
     "data": {
      "text/plain": [
       "Text(0.5, 1.0, 'With scaling')"
      ]
     },
     "execution_count": 20,
     "metadata": {},
     "output_type": "execute_result"
    }
   ],
   "source": [
    "ax = train_scaled.plot(x='Date', y='Confirmed', style='b-', grid=True)\n",
    "ax.legend(['train_scaled'])\n",
    "ax.set_xlabel(\"date\")\n",
    "ax.set_ylabel(\"Confirmed (scaled)\")\n",
    "ax.set_title(\"With scaling\")"
   ]
  },
  {
   "cell_type": "markdown",
   "metadata": {},
   "source": [
    "# Train the model using XGBoost\n"
   ]
  },
  {
   "cell_type": "code",
   "execution_count": 21,
   "metadata": {},
   "outputs": [],
   "source": [
    "n_estimators = 100             # Number of boosted trees to fit. default = 100\n",
    "max_depth = 3                  # Maximum tree depth for base learners. default = 3\n",
    "learning_rate = 0.1            # Boosting learning rate (xgb’s “eta”). default = 0.1\n",
    "min_child_weight = 1           # Minimum sum of instance weight(hessian) needed in a child. default = 1\n",
    "subsample = 1                  # Subsample ratio of the training instance. default = 1\n",
    "colsample_bytree = 1           # Subsample ratio of columns when constructing each tree. default = 1\n",
    "colsample_bylevel = 1          # Subsample ratio of columns for each split, in each level. default = 1\n",
    "gamma = 0  \n",
    "model_seed = 100\n"
   ]
  },
  {
   "cell_type": "code",
   "execution_count": 22,
   "metadata": {},
   "outputs": [
    {
     "data": {
      "text/plain": [
       "XGBRegressor(base_score=None, booster=None, colsample_bylevel=1,\n",
       "             colsample_bynode=1, colsample_bytree=1, gamma=0, gpu_id=-1,\n",
       "             importance_type='gain', interaction_constraints=None,\n",
       "             learning_rate=0.1, max_delta_step=0, max_depth=3,\n",
       "             min_child_weight=1, missing=nan, monotone_constraints=None,\n",
       "             n_estimators=100, n_jobs=0, num_parallel_tree=1,\n",
       "             objective='reg:squarederror', random_state=100, reg_alpha=0,\n",
       "             reg_lambda=1, scale_pos_weight=1, seed=100, subsample=1,\n",
       "             tree_method=None, validate_parameters=False, verbosity=None)"
      ]
     },
     "execution_count": 22,
     "metadata": {},
     "output_type": "execute_result"
    }
   ],
   "source": [
    "# Create the model\n",
    "model = XGBRegressor(seed=model_seed,\n",
    "                     n_estimators=n_estimators,\n",
    "                     max_depth=max_depth,\n",
    "                     learning_rate=learning_rate,\n",
    "                     min_child_weight=min_child_weight,\n",
    "                     subsample=subsample,\n",
    "                     colsample_bytree=colsample_bytree,\n",
    "                     colsample_bylevel=colsample_bylevel,\n",
    "                     gamma=gamma)\n",
    "\n",
    "# Train the regressor\n",
    "model.fit(X_train_scaled, y_train_scaled)"
   ]
  },
  {
   "cell_type": "markdown",
   "metadata": {},
   "source": [
    "# Predict on train set"
   ]
  },
  {
   "cell_type": "code",
   "execution_count": 23,
   "metadata": {},
   "outputs": [],
   "source": [
    "def get_mape(y_true, y_pred): \n",
    "    \"\"\"\n",
    "    Compute mean absolute percentage error (MAPE)\n",
    "    \"\"\"\n",
    "    y_true, y_pred = np.array(y_true), np.array(y_pred)\n",
    "    return np.mean(np.abs((y_true - y_pred) / y_true)) * 100"
   ]
  },
  {
   "cell_type": "code",
   "execution_count": 24,
   "metadata": {},
   "outputs": [
    {
     "name": "stdout",
     "output_type": "stream",
     "text": [
      "RMSE on train set = 32.665\n",
      "MAPE on train set = 0.543%\n"
     ]
    }
   ],
   "source": [
    "# Do prediction on train set\n",
    "est_scaled = model.predict(X_train_scaled)\n",
    "est = est_scaled * math.sqrt(scaler.var_[0]) + scaler.mean_[0]\n",
    "\n",
    "# Calculate RMSE\n",
    "print(\"RMSE on train set = %0.3f\" % math.sqrt(mean_squared_error(y_train, est)))\n",
    "\n",
    "# Calculate MAPE\n",
    "print(\"MAPE on train set = %0.3f%%\" % get_mape(y_train, est))"
   ]
  },
  {
   "cell_type": "code",
   "execution_count": 25,
   "metadata": {},
   "outputs": [
    {
     "data": {
      "text/plain": [
       "Text(0.5, 1.0, 'Without scaling')"
      ]
     },
     "execution_count": 25,
     "metadata": {},
     "output_type": "execute_result"
    }
   ],
   "source": [
    "est_df = pd.DataFrame({'est': est, \n",
    "                       'Date': train['Date']})\n",
    "\n",
    "ax = train.plot(x='Date', y='Confirmed', style='b-', grid=True)\n",
    "ax = valid.plot(x='Date', y='Confirmed', style='y-', grid=True, ax=ax)\n",
    "ax = test.plot(x='Date', y='Confirmed', style='g-', grid=True, ax=ax)\n",
    "ax = est_df.plot(x='Date', y='est', style='r-', grid=True, ax=ax)\n",
    "ax.legend(['train', 'dev', 'test', 'predictions'])\n",
    "ax.set_xlabel(\"Date\")\n",
    "ax.set_ylabel(\"USD\")\n",
    "ax.set_title('Without scaling')"
   ]
  },
  {
   "cell_type": "markdown",
   "metadata": {},
   "source": [
    "# Predict on dev set"
   ]
  },
  {
   "cell_type": "code",
   "execution_count": 26,
   "metadata": {},
   "outputs": [
    {
     "data": {
      "text/html": [
       "<div>\n",
       "<style scoped>\n",
       "    .dataframe tbody tr th:only-of-type {\n",
       "        vertical-align: middle;\n",
       "    }\n",
       "\n",
       "    .dataframe tbody tr th {\n",
       "        vertical-align: top;\n",
       "    }\n",
       "\n",
       "    .dataframe thead th {\n",
       "        text-align: right;\n",
       "    }\n",
       "</style>\n",
       "<table border=\"1\" class=\"dataframe\">\n",
       "  <thead>\n",
       "    <tr style=\"text-align: right;\">\n",
       "      <th></th>\n",
       "      <th>Date</th>\n",
       "      <th>Confirmed</th>\n",
       "      <th>order_day</th>\n",
       "      <th>Confirmed_lag_1</th>\n",
       "      <th>Confirmed_lag_2</th>\n",
       "      <th>Confirmed_mean</th>\n",
       "      <th>Confirmed_std</th>\n",
       "    </tr>\n",
       "  </thead>\n",
       "  <tbody>\n",
       "    <tr>\n",
       "      <th>38</th>\n",
       "      <td>2020-02-29</td>\n",
       "      <td>86011.0</td>\n",
       "      <td>38</td>\n",
       "      <td>84120.0</td>\n",
       "      <td>82754.0</td>\n",
       "      <td>83437.0</td>\n",
       "      <td>965.907863</td>\n",
       "    </tr>\n",
       "    <tr>\n",
       "      <th>39</th>\n",
       "      <td>2020-03-01</td>\n",
       "      <td>88369.0</td>\n",
       "      <td>39</td>\n",
       "      <td>86011.0</td>\n",
       "      <td>84120.0</td>\n",
       "      <td>85065.5</td>\n",
       "      <td>1337.138923</td>\n",
       "    </tr>\n",
       "    <tr>\n",
       "      <th>40</th>\n",
       "      <td>2020-03-02</td>\n",
       "      <td>90306.0</td>\n",
       "      <td>40</td>\n",
       "      <td>88369.0</td>\n",
       "      <td>86011.0</td>\n",
       "      <td>87190.0</td>\n",
       "      <td>1667.357790</td>\n",
       "    </tr>\n",
       "    <tr>\n",
       "      <th>41</th>\n",
       "      <td>2020-03-03</td>\n",
       "      <td>92840.0</td>\n",
       "      <td>41</td>\n",
       "      <td>90306.0</td>\n",
       "      <td>88369.0</td>\n",
       "      <td>89337.5</td>\n",
       "      <td>1369.665835</td>\n",
       "    </tr>\n",
       "    <tr>\n",
       "      <th>42</th>\n",
       "      <td>2020-03-04</td>\n",
       "      <td>95120.0</td>\n",
       "      <td>42</td>\n",
       "      <td>92840.0</td>\n",
       "      <td>90306.0</td>\n",
       "      <td>91573.0</td>\n",
       "      <td>1791.808584</td>\n",
       "    </tr>\n",
       "    <tr>\n",
       "      <th>43</th>\n",
       "      <td>2020-03-05</td>\n",
       "      <td>97882.0</td>\n",
       "      <td>43</td>\n",
       "      <td>95120.0</td>\n",
       "      <td>92840.0</td>\n",
       "      <td>93980.0</td>\n",
       "      <td>1612.203461</td>\n",
       "    </tr>\n",
       "    <tr>\n",
       "      <th>44</th>\n",
       "      <td>2020-03-06</td>\n",
       "      <td>101784.0</td>\n",
       "      <td>44</td>\n",
       "      <td>97882.0</td>\n",
       "      <td>95120.0</td>\n",
       "      <td>96501.0</td>\n",
       "      <td>1953.028930</td>\n",
       "    </tr>\n",
       "    <tr>\n",
       "      <th>45</th>\n",
       "      <td>2020-03-07</td>\n",
       "      <td>105821.0</td>\n",
       "      <td>45</td>\n",
       "      <td>101784.0</td>\n",
       "      <td>97882.0</td>\n",
       "      <td>99833.0</td>\n",
       "      <td>2759.130660</td>\n",
       "    </tr>\n",
       "    <tr>\n",
       "      <th>46</th>\n",
       "      <td>2020-03-08</td>\n",
       "      <td>109795.0</td>\n",
       "      <td>46</td>\n",
       "      <td>105821.0</td>\n",
       "      <td>101784.0</td>\n",
       "      <td>103802.5</td>\n",
       "      <td>2854.590076</td>\n",
       "    </tr>\n",
       "    <tr>\n",
       "      <th>47</th>\n",
       "      <td>2020-03-09</td>\n",
       "      <td>113561.0</td>\n",
       "      <td>47</td>\n",
       "      <td>109795.0</td>\n",
       "      <td>105821.0</td>\n",
       "      <td>107808.0</td>\n",
       "      <td>2810.042348</td>\n",
       "    </tr>\n",
       "    <tr>\n",
       "      <th>48</th>\n",
       "      <td>2020-03-10</td>\n",
       "      <td>118592.0</td>\n",
       "      <td>48</td>\n",
       "      <td>113561.0</td>\n",
       "      <td>109795.0</td>\n",
       "      <td>111678.0</td>\n",
       "      <td>2662.964138</td>\n",
       "    </tr>\n",
       "    <tr>\n",
       "      <th>49</th>\n",
       "      <td>2020-03-11</td>\n",
       "      <td>125865.0</td>\n",
       "      <td>49</td>\n",
       "      <td>118592.0</td>\n",
       "      <td>113561.0</td>\n",
       "      <td>116076.5</td>\n",
       "      <td>3557.454216</td>\n",
       "    </tr>\n",
       "  </tbody>\n",
       "</table>\n",
       "</div>"
      ],
      "text/plain": [
       "         Date  Confirmed  order_day  Confirmed_lag_1  Confirmed_lag_2  \\\n",
       "38 2020-02-29    86011.0         38          84120.0          82754.0   \n",
       "39 2020-03-01    88369.0         39          86011.0          84120.0   \n",
       "40 2020-03-02    90306.0         40          88369.0          86011.0   \n",
       "41 2020-03-03    92840.0         41          90306.0          88369.0   \n",
       "42 2020-03-04    95120.0         42          92840.0          90306.0   \n",
       "43 2020-03-05    97882.0         43          95120.0          92840.0   \n",
       "44 2020-03-06   101784.0         44          97882.0          95120.0   \n",
       "45 2020-03-07   105821.0         45         101784.0          97882.0   \n",
       "46 2020-03-08   109795.0         46         105821.0         101784.0   \n",
       "47 2020-03-09   113561.0         47         109795.0         105821.0   \n",
       "48 2020-03-10   118592.0         48         113561.0         109795.0   \n",
       "49 2020-03-11   125865.0         49         118592.0         113561.0   \n",
       "\n",
       "    Confirmed_mean  Confirmed_std  \n",
       "38         83437.0     965.907863  \n",
       "39         85065.5    1337.138923  \n",
       "40         87190.0    1667.357790  \n",
       "41         89337.5    1369.665835  \n",
       "42         91573.0    1791.808584  \n",
       "43         93980.0    1612.203461  \n",
       "44         96501.0    1953.028930  \n",
       "45         99833.0    2759.130660  \n",
       "46        103802.5    2854.590076  \n",
       "47        107808.0    2810.042348  \n",
       "48        111678.0    2662.964138  \n",
       "49        116076.5    3557.454216  "
      ]
     },
     "execution_count": 26,
     "metadata": {},
     "output_type": "execute_result"
    }
   ],
   "source": [
    "valid"
   ]
  },
  {
   "cell_type": "code",
   "execution_count": 27,
   "metadata": {},
   "outputs": [
    {
     "name": "stdout",
     "output_type": "stream",
     "text": [
      "RMSE on dev set = 3583.329\n",
      "MAPE on dev set = 3.114%\n"
     ]
    },
    {
     "name": "stderr",
     "output_type": "stream",
     "text": [
      "/opt/anaconda3/envs/ml-env/lib/python3.7/site-packages/ipykernel_launcher.py:3: SettingWithCopyWarning: \n",
      "A value is trying to be set on a copy of a slice from a DataFrame.\n",
      "Try using .loc[row_indexer,col_indexer] = value instead\n",
      "\n",
      "See the caveats in the documentation: https://pandas.pydata.org/pandas-docs/stable/user_guide/indexing.html#returning-a-view-versus-a-copy\n",
      "  This is separate from the ipykernel package so we can avoid doing imports until\n",
      "/opt/anaconda3/envs/ml-env/lib/python3.7/site-packages/ipykernel_launcher.py:4: SettingWithCopyWarning: \n",
      "A value is trying to be set on a copy of a slice from a DataFrame.\n",
      "Try using .loc[row_indexer,col_indexer] = value instead\n",
      "\n",
      "See the caveats in the documentation: https://pandas.pydata.org/pandas-docs/stable/user_guide/indexing.html#returning-a-view-versus-a-copy\n",
      "  after removing the cwd from sys.path.\n"
     ]
    }
   ],
   "source": [
    "# Do prediction on test set\n",
    "est_scaled = model.predict(X_valid_scaled)\n",
    "valid['est_scaled'] = est_scaled\n",
    "valid['est'] = valid['est_scaled'] * valid['Confirmed_std'] + valid['Confirmed_mean']\n",
    "\n",
    "# Calculate RMSE\n",
    "rmse_bef_tuning = math.sqrt(mean_squared_error(y_valid, valid['est']))\n",
    "print(\"RMSE on dev set = %0.3f\" % rmse_bef_tuning)\n",
    "\n",
    "# Calculate MAPE\n",
    "mape_bef_tuning = get_mape(y_valid, valid['est'])\n",
    "print(\"MAPE on dev set = %0.3f%%\" % mape_bef_tuning)"
   ]
  },
  {
   "cell_type": "code",
   "execution_count": 28,
   "metadata": {},
   "outputs": [
    {
     "data": {
      "text/plain": [
       "Text(0, 0.5, 'Confirmed')"
      ]
     },
     "execution_count": 28,
     "metadata": {},
     "output_type": "execute_result"
    }
   ],
   "source": [
    "est_df = pd.DataFrame({'est': valid['est'], \n",
    "                       'y_valid': y_valid,\n",
    "                       'Date': valid['Date']})\n",
    "\n",
    "ax = train.plot(x='Date', y='Confirmed', style='b-', grid=True)\n",
    "ax = valid.plot(x='Date', y='Confirmed', style='y-', grid=True, ax=ax)\n",
    "ax = test.plot(x='Date', y='Confirmed', style='g-', grid=True, ax=ax)\n",
    "ax = est_df.plot(x='Date', y='est', style='r-', grid=True, ax=ax)\n",
    "ax.legend(['train', 'validation', 'test', 'predictions'])\n",
    "ax.set_xlabel(\"Date\")\n",
    "ax.set_ylabel(\"Confirmed\")"
   ]
  },
  {
   "cell_type": "code",
   "execution_count": 29,
   "metadata": {},
   "outputs": [],
   "source": [
    "_ = plot_importance(model, height=0.999)"
   ]
  }
 ],
 "metadata": {
  "kernelspec": {
   "display_name": "Python 3",
   "language": "python",
   "name": "python3"
  },
  "language_info": {
   "codemirror_mode": {
    "name": "ipython",
    "version": 3
   },
   "file_extension": ".py",
   "mimetype": "text/x-python",
   "name": "python",
   "nbconvert_exporter": "python",
   "pygments_lexer": "ipython3",
   "version": "3.7.6"
  }
 },
 "nbformat": 4,
 "nbformat_minor": 4
}
